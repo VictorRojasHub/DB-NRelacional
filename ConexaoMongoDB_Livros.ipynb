{
  "nbformat": 4,
  "nbformat_minor": 0,
  "metadata": {
    "colab": {
      "provenance": []
    },
    "kernelspec": {
      "name": "python3",
      "display_name": "Python 3"
    },
    "language_info": {
      "name": "python"
    }
  },
  "cells": [
    {
      "cell_type": "markdown",
      "source": [
        "## ***Operações de Create*** 🌏🌏"
      ],
      "metadata": {
        "id": "HsMn8OSfHOSl"
      }
    },
    {
      "cell_type": "code",
      "execution_count": 22,
      "metadata": {
        "colab": {
          "base_uri": "https://localhost:8080/"
        },
        "id": "ND2uPcRsw1w2",
        "outputId": "0ad150a1-34de-48f6-989e-a9e6f46e48d4"
      },
      "outputs": [
        {
          "output_type": "stream",
          "name": "stdout",
          "text": [
            "Requirement already satisfied: pymongo in /usr/local/lib/python3.10/dist-packages (4.10.1)\n",
            "Requirement already satisfied: dnspython<3.0.0,>=1.16.0 in /usr/local/lib/python3.10/dist-packages (from pymongo) (2.7.0)\n"
          ]
        }
      ],
      "source": [
        "!python -m pip install pymongo"
      ]
    },
    {
      "cell_type": "code",
      "source": [
        "import json\n",
        "from pymongo import MongoClient\n",
        "from bson.objectid import ObjectId"
      ],
      "metadata": {
        "id": "ew6EYClzxYGl"
      },
      "execution_count": 23,
      "outputs": []
    },
    {
      "cell_type": "code",
      "source": [
        "client = MongoClient(yourconnectionstring)\n",
        "db = client['BooksDB']\n",
        "collection = db['Books']"
      ],
      "metadata": {
        "id": "8BBwskFax9By"
      },
      "execution_count": 24,
      "outputs": []
    },
    {
      "cell_type": "code",
      "source": [
        "db = client['BooksDB']\n",
        "collection = db['Books']"
      ],
      "metadata": {
        "id": "on3MYvx6ymZW"
      },
      "execution_count": 25,
      "outputs": []
    },
    {
      "cell_type": "code",
      "source": [
        "from google.colab import drive\n",
        "drive.mount('/content/drive')"
      ],
      "metadata": {
        "colab": {
          "base_uri": "https://localhost:8080/"
        },
        "id": "JPPGc18ISNlU",
        "outputId": "476c2bd0-3c00-4f52-bace-ed52d55e6b0f"
      },
      "execution_count": 26,
      "outputs": [
        {
          "output_type": "stream",
          "name": "stdout",
          "text": [
            "Drive already mounted at /content/drive; to attempt to forcibly remount, call drive.mount(\"/content/drive\", force_remount=True).\n"
          ]
        }
      ]
    },
    {
      "cell_type": "code",
      "source": [
        "# Caminho do arquivo (substitua pelo caminho correto se necessário)\n",
        "file_path = \"/content/drive/My Drive/books.json\""
      ],
      "metadata": {
        "id": "zai4-YCe58A_"
      },
      "execution_count": 27,
      "outputs": []
    },
    {
      "cell_type": "code",
      "source": [
        "#ler objectId\n",
        "from bson import objectid"
      ],
      "metadata": {
        "id": "PnkT1QwkS_3u"
      },
      "execution_count": 28,
      "outputs": []
    },
    {
      "cell_type": "markdown",
      "source": [
        "Inserir objetos extraidos do googleBooks"
      ],
      "metadata": {
        "id": "2cQxkBiWp4j-"
      }
    },
    {
      "cell_type": "code",
      "source": [
        "import json\n",
        "from pymongo import MongoClient\n",
        "\n",
        "\n",
        "\n",
        "# Caminho do arquivo JSON\n",
        "file_path = '/content/drive/My Drive/books.json'\n",
        "\n",
        "with open(file_path, \"r\", encoding='utf-8') as file:\n",
        "    # Carregar o JSON completo\n",
        "    data = json.load(file)\n",
        "\n",
        "    # Criar uma lista para as operações de atualização\n",
        "    operations = []\n",
        "\n",
        "    for record in data:\n",
        "        # Criar uma operação de inserção\n",
        "        operations.append(record)\n",
        "\n",
        "    # Executar as operações de inserção em lote\n",
        "    if operations:\n",
        "        result = collection.insert_many(operations)\n",
        "        print(f\"Inserted {len(result.inserted_ids)} records into the collection.\")\n",
        "\n"
      ],
      "metadata": {
        "id": "WBtqA228JTzd",
        "colab": {
          "base_uri": "https://localhost:8080/"
        },
        "outputId": "36c4f803-b9b5-4355-e468-f9c260aafd55"
      },
      "execution_count": 30,
      "outputs": [
        {
          "output_type": "stream",
          "name": "stdout",
          "text": [
            "Inserted 23 records into the collection.\n"
          ]
        }
      ]
    },
    {
      "cell_type": "markdown",
      "source": [
        "Inserindo mais alguns manualmente"
      ],
      "metadata": {
        "id": "cYoflQT1qK8-"
      }
    },
    {
      "cell_type": "code",
      "source": [
        "# Dados de exemplo para inserção\n",
        "livros = [\n",
        "    {\"titulo\": \"1984\", \"autor\": \"George Orwell\", \"ano\": 1949, \"paginas\": 328, \"genero\": \"Distopia\", \"isbn\": \"9780451524935\"},\n",
        "    {\"titulo\": \"Orgulho e Preconceito\", \"autor\": \"Jane Austen\", \"ano\": 1813, \"paginas\": 279, \"genero\": \"Romance\", \"isbn\": \"9781503290563\"},\n",
        "    {\"titulo\": \"O Hobbit\", \"autor\": \"J.R.R. Tolkien\", \"ano\": 1937, \"paginas\": 310, \"genero\": \"Fantasia\", \"isbn\": \"9780547928227\"},\n",
        "    {\"titulo\": \"Dom Casmurro\", \"autor\": \"Machado de Assis\", \"ano\": 1899, \"paginas\": 256, \"genero\": \"Romance\", \"isbn\": \"9788533613409\"},\n",
        "    {\"titulo\": \"A Revolução dos Bichos\", \"autor\": \"George Orwell\", \"ano\": 1945, \"paginas\": 152, \"genero\": \"Distopia\", \"isbn\": \"9780451526342\"}\n",
        "]\n",
        "\n",
        "# Inserir os documentos na coleção\n",
        "collection.insert_many(livros)\n",
        "print(\"Documentos inseridos com sucesso.\")\n"
      ],
      "metadata": {
        "colab": {
          "base_uri": "https://localhost:8080/"
        },
        "id": "-FGXAKTYTO4A",
        "outputId": "6e8220b2-327a-49d5-e8dd-8f995a8723c7"
      },
      "execution_count": 31,
      "outputs": [
        {
          "output_type": "stream",
          "name": "stdout",
          "text": [
            "Documentos inseridos com sucesso.\n"
          ]
        }
      ]
    },
    {
      "cell_type": "markdown",
      "source": [
        "consultar os documentos na coleção usando alguns filtros."
      ],
      "metadata": {
        "id": "-sh-Tsj8qW0V"
      }
    },
    {
      "cell_type": "code",
      "source": [
        "# Consulta: Livros do autor \"George Orwell\"\n",
        "orwell_books = collection.find({\"autor\": \"George Orwell\"})\n",
        "print(\"Livros de George Orwell:\")\n",
        "for livro in orwell_books:\n",
        "    print(livro)\n",
        "\n",
        "# Consulta: Livros do gênero \"Romance\"\n",
        "romance_books = collection.find({\"genero\": \"Romance\"})\n",
        "print(\"\\nLivros de Romance:\")\n",
        "for livro in romance_books:\n",
        "    print(livro)\n"
      ],
      "metadata": {
        "colab": {
          "base_uri": "https://localhost:8080/"
        },
        "id": "KneOqmKoTbXW",
        "outputId": "a4c37e4c-0cfc-4772-ff3f-dd12a1c913ce"
      },
      "execution_count": 32,
      "outputs": [
        {
          "output_type": "stream",
          "name": "stdout",
          "text": [
            "Livros de George Orwell:\n",
            "{'_id': ObjectId('6728165d15c82a61f357861a'), 'titulo': '1984', 'ano_lancamento': 1949, 'autor': 'George Orwell', 'numero_paginas': 328, 'isbn': '978-0-452-28423-4', 'foto_capa': 'https://books.google.com/books/content?id=Vgq0AAAAQBAJ&printsec=frontcover&img=1&zoom=1&source=gbs_api'}\n",
            "{'_id': ObjectId('6728191115c82a61f3578631'), 'titulo': '1984', 'ano_lancamento': 1949, 'autor': 'George Orwell', 'numero_paginas': 328, 'isbn': '978-0-452-28423-4', 'foto_capa': 'https://books.google.com/books/content?id=Vgq0AAAAQBAJ&printsec=frontcover&img=1&zoom=1&source=gbs_api'}\n",
            "{'_id': ObjectId('67281ae415c82a61f3578647'), 'titulo': '1984', 'autor': 'George Orwell', 'ano': 1949, 'paginas': 328, 'genero': 'Distopia', 'isbn': '9780451524935'}\n",
            "{'_id': ObjectId('67281ae415c82a61f357864b'), 'titulo': 'A Revolução dos Bichos', 'autor': 'George Orwell', 'ano': 1945, 'paginas': 152, 'genero': 'Distopia', 'isbn': '9780451526342'}\n",
            "\n",
            "Livros de Romance:\n",
            "{'_id': ObjectId('67281ae415c82a61f3578648'), 'titulo': 'Orgulho e Preconceito', 'autor': 'Jane Austen', 'ano': 1813, 'paginas': 279, 'genero': 'Romance', 'isbn': '9781503290563'}\n",
            "{'_id': ObjectId('67281ae415c82a61f357864a'), 'titulo': 'Dom Casmurro', 'autor': 'Machado de Assis', 'ano': 1899, 'paginas': 256, 'genero': 'Romance', 'isbn': '9788533613409'}\n"
          ]
        }
      ]
    },
    {
      "cell_type": "markdown",
      "source": [
        "operações de atualização em documentos específicos"
      ],
      "metadata": {
        "id": "jrtlwC9-qjSW"
      }
    },
    {
      "cell_type": "code",
      "source": [
        "# Atualizar o número de páginas do livro \"O Hobbit\"\n",
        "collection.update_one({\"titulo\": \"O Hobbit\"}, {\"$set\": {\"paginas\": 320}})\n",
        "print(\"\\nNúmero de páginas de 'O Hobbit' atualizado.\")\n",
        "\n",
        "# Adicionar o campo \"idioma\" a todos os livros do gênero \"Distopia\"\n",
        "collection.update_many({\"genero\": \"Distopia\"}, {\"$set\": {\"idioma\": \"Inglês\"}})\n",
        "print(\"Campo 'idioma' adicionado aos livros de Distopia.\")"
      ],
      "metadata": {
        "id": "kE64uSrRTkIF",
        "colab": {
          "base_uri": "https://localhost:8080/"
        },
        "outputId": "b0c78ab5-3b28-48a0-8753-389300025618"
      },
      "execution_count": 33,
      "outputs": [
        {
          "output_type": "stream",
          "name": "stdout",
          "text": [
            "\n",
            "Número de páginas de 'O Hobbit' atualizado.\n",
            "Campo 'idioma' adicionado aos livros de Distopia.\n"
          ]
        }
      ]
    },
    {
      "cell_type": "markdown",
      "source": [
        "duas operações de exclusão\n",
        "\n"
      ],
      "metadata": {
        "id": "rVgjFHGeHDpk"
      }
    },
    {
      "cell_type": "markdown",
      "source": [],
      "metadata": {
        "id": "GdpbZaEzqxio"
      }
    },
    {
      "cell_type": "code",
      "source": [
        "# Excluir o livro \"Dom Casmurro\"\n",
        "collection.delete_one({\"titulo\": \"Dom Casmurro\"})\n",
        "print(\"\\nLivro 'Dom Casmurro' removido.\")\n",
        "\n",
        "# Excluir todos os livros com menos de 200 páginas\n",
        "collection.delete_many({\"paginas\": {\"$lt\": 200}})\n",
        "print(\"Livros com menos de 200 páginas removidos.\")"
      ],
      "metadata": {
        "colab": {
          "base_uri": "https://localhost:8080/"
        },
        "id": "V10ylif5Hprm",
        "outputId": "798a56e9-3a39-4782-9640-45aded5f2ac3"
      },
      "execution_count": 34,
      "outputs": [
        {
          "output_type": "stream",
          "name": "stdout",
          "text": [
            "\n",
            "Livro 'Dom Casmurro' removido.\n",
            "Livros com menos de 200 páginas removidos.\n"
          ]
        }
      ]
    }
  ]
}